{
 "cells": [
  {
   "cell_type": "markdown",
   "metadata": {},
   "source": [
    "# Preprocessing datasets"
   ]
  },
  {
   "cell_type": "markdown",
   "metadata": {},
   "source": [
    "## Import packages"
   ]
  },
  {
   "cell_type": "code",
   "execution_count": 1,
   "metadata": {},
   "outputs": [],
   "source": [
    "from pysus.utilities.readdbc import read_dbc\n",
    "\n",
    "import pandas as pd\n",
    "import xlrd\n",
    "import glob"
   ]
  },
  {
   "cell_type": "markdown",
   "metadata": {},
   "source": [
    "## Global variables"
   ]
  },
  {
   "cell_type": "code",
   "execution_count": 8,
   "metadata": {},
   "outputs": [],
   "source": [
    "# Paths\n",
    "PATHS = dict(\n",
    "    IN = '../datas/raw/mr-ssa',\n",
    "    OUT = '../datas/preprocessing/mr-ssa'\n",
    ") \n",
    "\n",
    "# Folders\n",
    "FOLDERS = dict(\n",
    "    AIRQ = 'airquality/cetrel',\n",
    "    WTHR = 'weather/cetrel',\n",
    "    DSUS = 'datasus'\n",
    ")"
   ]
  },
  {
   "cell_type": "markdown",
   "metadata": {},
   "source": [
    "## Air quality - preprocessing"
   ]
  },
  {
   "cell_type": "markdown",
   "metadata": {},
   "source": [
    "### [CETREL] Get air quality excel files"
   ]
  },
  {
   "cell_type": "code",
   "execution_count": 3,
   "metadata": {},
   "outputs": [
    {
     "data": {
      "text/plain": [
       "['../datas/raw/mr-ssa/airquality/av-acm-detran.xlsx',\n",
       " '../datas/raw/mr-ssa/airquality/barros-reis.xlsx',\n",
       " '../datas/raw/mr-ssa/airquality/campo-grande.xlsx',\n",
       " '../datas/raw/mr-ssa/airquality/itaigara.xlsx',\n",
       " '../datas/raw/mr-ssa/airquality/paralela.xlsx',\n",
       " '../datas/raw/mr-ssa/airquality/piraja.xlsx']"
      ]
     },
     "execution_count": 3,
     "metadata": {},
     "output_type": "execute_result"
    }
   ],
   "source": [
    "path = f\"{PATHS['IN']}/{FOLDERS['AIRQ']}/*.xlsx\"\n",
    "f_airq = [f for f in glob.glob(path)]\n",
    "f_airq"
   ]
  },
  {
   "cell_type": "markdown",
   "metadata": {},
   "source": [
    "### [CETREL] Generating csv"
   ]
  },
  {
   "cell_type": "code",
   "execution_count": 4,
   "metadata": {},
   "outputs": [
    {
     "name": "stdout",
     "output_type": "stream",
     "text": [
      "\n",
      "Starting ../datas/raw/mr-ssa/airquality/av-acm-detran.xlsx\n",
      "[DONE] ../datas/preprocessing/mr-ssa/airquality/av-acm-detran-2013.zip\n",
      "[DONE] ../datas/preprocessing/mr-ssa/airquality/av-acm-detran-2014.zip\n",
      "[DONE] ../datas/preprocessing/mr-ssa/airquality/av-acm-detran-2015.zip\n",
      "Ending ../datas/raw/mr-ssa/airquality/av-acm-detran.xlsx\n",
      "\n",
      "\n",
      "Starting ../datas/raw/mr-ssa/airquality/barros-reis.xlsx\n",
      "[DONE] ../datas/preprocessing/mr-ssa/airquality/barros-reis-2013.zip\n",
      "[DONE] ../datas/preprocessing/mr-ssa/airquality/barros-reis-2014.zip\n",
      "[DONE] ../datas/preprocessing/mr-ssa/airquality/barros-reis-2015.zip\n",
      "Ending ../datas/raw/mr-ssa/airquality/barros-reis.xlsx\n",
      "\n",
      "\n",
      "Starting ../datas/raw/mr-ssa/airquality/campo-grande.xlsx\n",
      "[DONE] ../datas/preprocessing/mr-ssa/airquality/campo-grande-2013.zip\n",
      "[DONE] ../datas/preprocessing/mr-ssa/airquality/campo-grande-2014.zip\n",
      "[DONE] ../datas/preprocessing/mr-ssa/airquality/campo-grande-2015.zip\n",
      "Ending ../datas/raw/mr-ssa/airquality/campo-grande.xlsx\n",
      "\n",
      "\n",
      "Starting ../datas/raw/mr-ssa/airquality/itaigara.xlsx\n",
      "[DONE] ../datas/preprocessing/mr-ssa/airquality/itaigara-2013.zip\n",
      "[DONE] ../datas/preprocessing/mr-ssa/airquality/itaigara-2014.zip\n",
      "[DONE] ../datas/preprocessing/mr-ssa/airquality/itaigara-2015.zip\n",
      "Ending ../datas/raw/mr-ssa/airquality/itaigara.xlsx\n",
      "\n",
      "\n",
      "Starting ../datas/raw/mr-ssa/airquality/paralela.xlsx\n",
      "[DONE] ../datas/preprocessing/mr-ssa/airquality/paralela-2013.zip\n",
      "[DONE] ../datas/preprocessing/mr-ssa/airquality/paralela-2014.zip\n",
      "[DONE] ../datas/preprocessing/mr-ssa/airquality/paralela-2015.zip\n",
      "Ending ../datas/raw/mr-ssa/airquality/paralela.xlsx\n",
      "\n",
      "\n",
      "Starting ../datas/raw/mr-ssa/airquality/piraja.xlsx\n",
      "[DONE] ../datas/preprocessing/mr-ssa/airquality/piraja-2013.zip\n",
      "[DONE] ../datas/preprocessing/mr-ssa/airquality/piraja-2014.zip\n",
      "[DONE] ../datas/preprocessing/mr-ssa/airquality/piraja-2015.zip\n",
      "Ending ../datas/raw/mr-ssa/airquality/piraja.xlsx\n",
      "\n",
      "Ending all.\n"
     ]
    }
   ],
   "source": [
    "for file in f_airq:\n",
    "    print(f'\\nStarting {file}')\n",
    "\n",
    "    # Open excel file\n",
    "    wb = xlrd.open_workbook(file)\n",
    "\n",
    "    # Get station name\n",
    "    station = file.split('/')[-1]\n",
    "    station = station[:-5]\n",
    "\n",
    "    # Get all sheets\n",
    "    sheet_names = wb.sheet_names()\n",
    "\n",
    "    for sheet_name in sheet_names:\n",
    "        # Get sheet\n",
    "        sheet = wb.sheet_by_name(sheet_name)\n",
    "\n",
    "        # Rows number\n",
    "        nrows = sheet.nrows\n",
    "\n",
    "        # Get cols names\n",
    "        cols = sheet.row_values(2)\n",
    "\n",
    "        # Get units\n",
    "        units = sheet.row_values(3)\n",
    "\n",
    "        # Concatenate cols with units\n",
    "        for i in range(1, len(cols)):\n",
    "            cols[i] = f'{cols[i]} ({units[i]})'\n",
    "\n",
    "        # Init dataframe\n",
    "        df = pd.DataFrame(columns=cols)\n",
    "\n",
    "        # Get only valid datas\n",
    "        for r in range(4, nrows-8):\n",
    "            aux = pd.DataFrame([sheet.row_values(r)], columns=cols)\n",
    "            df = pd.concat([df, aux], ignore_index=True)\n",
    "\n",
    "        # Generate output name\n",
    "        f_out = f\"{PATHS['OUT']}/{FOLDERS['AIRQ']}/{station}-{sheet_name}\"\n",
    "\n",
    "        # Generate gzip output file\n",
    "        df.to_csv(f'{f_out}.csv.gz', index=False, compression='gzip')\n",
    "\n",
    "        print(f'[DONE] {f_out}.zip')\n",
    "\n",
    "    print(f'Ending {file}\\n')\n",
    "print('Ending all.')"
   ]
  },
  {
   "cell_type": "markdown",
   "metadata": {},
   "source": [
    "## Weather - preprocessing"
   ]
  },
  {
   "cell_type": "markdown",
   "metadata": {},
   "source": [
    "### [CETREL] Get weather excel files"
   ]
  },
  {
   "cell_type": "code",
   "execution_count": 5,
   "metadata": {},
   "outputs": [
    {
     "data": {
      "text/plain": [
       "['../datas/raw/mr-ssa/weather/rmar-2013.xls',\n",
       " '../datas/raw/mr-ssa/weather/rmar-2014.xls',\n",
       " '../datas/raw/mr-ssa/weather/rmar-2015.xls']"
      ]
     },
     "execution_count": 5,
     "metadata": {},
     "output_type": "execute_result"
    }
   ],
   "source": [
    "path = f\"{PATHS['IN']}/{FOLDERS['WTHR']}/*.xls\"\n",
    "f_wthr = [f for f in glob.glob(path)]\n",
    "f_wthr"
   ]
  },
  {
   "cell_type": "markdown",
   "metadata": {},
   "source": [
    "### [CETREL] Generating csv"
   ]
  },
  {
   "cell_type": "code",
   "execution_count": 6,
   "metadata": {},
   "outputs": [
    {
     "name": "stdout",
     "output_type": "stream",
     "text": [
      "\n",
      "Starting ../datas/raw/mr-ssa/weather/rmar-2013.xls\n",
      "[DONE] ../datas/preprocessing/mr-ssa/weather/AV. ACM - DETRAN-2013.csv.gz\n",
      "[DONE] ../datas/preprocessing/mr-ssa/weather/AV. BARROS REIS-2013.csv.gz\n",
      "[DONE] ../datas/preprocessing/mr-ssa/weather/CAMPO GRANDE-2013.csv.gz\n",
      "[DONE] ../datas/preprocessing/mr-ssa/weather/DIQUE DO TORORO-2013.csv.gz\n",
      "[DONE] ../datas/preprocessing/mr-ssa/weather/ITAIGARA-2013.csv.gz\n",
      "[DONE] ../datas/preprocessing/mr-ssa/weather/PARALELA-CAB-2013.csv.gz\n",
      "[DONE] ../datas/preprocessing/mr-ssa/weather/PIRAJA-2013.csv.gz\n",
      "[DONE] ../datas/preprocessing/mr-ssa/weather/RIO VERMELHO-2013.csv.gz\n",
      "Ending ../datas/raw/mr-ssa/weather/rmar-2013.xls\n",
      "\n",
      "\n",
      "Starting ../datas/raw/mr-ssa/weather/rmar-2014.xls\n",
      "[DONE] ../datas/preprocessing/mr-ssa/weather/AV. ACM - DETRAN-2014.csv.gz\n",
      "[DONE] ../datas/preprocessing/mr-ssa/weather/AV. BARROS REIS-2014.csv.gz\n",
      "[DONE] ../datas/preprocessing/mr-ssa/weather/CAMPO GRANDE-2014.csv.gz\n",
      "[DONE] ../datas/preprocessing/mr-ssa/weather/DIQUE DO TORORO-2014.csv.gz\n",
      "[DONE] ../datas/preprocessing/mr-ssa/weather/ITAIGARA-2014.csv.gz\n",
      "[DONE] ../datas/preprocessing/mr-ssa/weather/PARALELA-CAB-2014.csv.gz\n",
      "[DONE] ../datas/preprocessing/mr-ssa/weather/PIRAJA-2014.csv.gz\n",
      "[DONE] ../datas/preprocessing/mr-ssa/weather/RIO VERMELHO-2014.csv.gz\n",
      "Ending ../datas/raw/mr-ssa/weather/rmar-2014.xls\n",
      "\n",
      "\n",
      "Starting ../datas/raw/mr-ssa/weather/rmar-2015.xls\n",
      "[DONE] ../datas/preprocessing/mr-ssa/weather/AV. ACM - DETRAN-2015.csv.gz\n",
      "[DONE] ../datas/preprocessing/mr-ssa/weather/AV. BARROS REIS-2015.csv.gz\n",
      "[DONE] ../datas/preprocessing/mr-ssa/weather/CAMPO GRANDE-2015.csv.gz\n",
      "[DONE] ../datas/preprocessing/mr-ssa/weather/DIQUE DO TORORO-2015.csv.gz\n",
      "[DONE] ../datas/preprocessing/mr-ssa/weather/ITAIGARA-2015.csv.gz\n",
      "[DONE] ../datas/preprocessing/mr-ssa/weather/PARALELA-CAB-2015.csv.gz\n",
      "[DONE] ../datas/preprocessing/mr-ssa/weather/PIRAJA-2015.csv.gz\n",
      "[DONE] ../datas/preprocessing/mr-ssa/weather/RIO VERMELHO-2015.csv.gz\n",
      "Ending ../datas/raw/mr-ssa/weather/rmar-2015.xls\n",
      "\n",
      "Ending all.\n"
     ]
    }
   ],
   "source": [
    "for file in f_wthr:\n",
    "    print(f'\\nStarting {file}')\n",
    "\n",
    "    # Open excel file\n",
    "    wb = xlrd.open_workbook(file)\n",
    "\n",
    "    # Get year\n",
    "    year = file.split('/')[-1]\n",
    "    year = year[-8:-4]\n",
    "\n",
    "    # Get sheet\n",
    "    sheet = wb.sheet_by_index(0)\n",
    "\n",
    "    # Rows number\n",
    "    nrows = sheet.nrows\n",
    "\n",
    "    # Get cols names with counts\n",
    "    stations = sheet.row_values(2, start_colx=1)\n",
    "    stations_u = list(dict.fromkeys(stations))\n",
    "    stations_c = { x: stations.count(x) for x in stations_u}\n",
    "\n",
    "    index_col = sheet.cell_value(3,0)\n",
    "\n",
    "    colx = dict(start_colx=1, end_colx=0)\n",
    "    for st in stations_c:\n",
    "        colx['end_colx'] = colx['start_colx'] + stations_c[st]\n",
    "\n",
    "        # Get cols names\n",
    "        cols = [index_col]\n",
    "        cols.extend(sheet.row_values(3, **colx))\n",
    "\n",
    "        # Get units\n",
    "        units = sheet.row_values(4, **colx)\n",
    "\n",
    "        # Concatenate cols with units\n",
    "        for i in range(1, len(cols)):\n",
    "            cols[i] = f'{cols[i]} ({units[i-1]})'\n",
    "\n",
    "        # Init dataframe\n",
    "        df = pd.DataFrame(columns=cols)\n",
    "\n",
    "        # Get only valid datas\n",
    "        for r in range(5, nrows-8):\n",
    "            register = [sheet.cell_value(r, 0)]\n",
    "            register.extend(sheet.row_values(r, **colx))\n",
    "            aux = pd.DataFrame([register], columns=cols)\n",
    "            df = pd.concat([df, aux], ignore_index=True)\n",
    "\n",
    "        # Generate output name\n",
    "        f_out = f\"{PATHS['OUT']}/{FOLDERS['WTHR']}/{st}-{year}.csv.gz\"\n",
    "\n",
    "        # Generate gzip output file\n",
    "        df.to_csv(f_out, index=False, compression='gzip')\n",
    "\n",
    "        colx['start_colx'] = colx['end_colx']\n",
    "        print(f'[DONE] {f_out}')\n",
    "\n",
    "    print(f'Ending {file}\\n')\n",
    "print('Ending all.') "
   ]
  },
  {
   "cell_type": "markdown",
   "metadata": {},
   "source": [
    "## Datasus - preprocessing"
   ]
  },
  {
   "cell_type": "code",
   "execution_count": 7,
   "metadata": {},
   "outputs": [
    {
     "ename": "NameError",
     "evalue": "name 'filename' is not defined",
     "output_type": "error",
     "traceback": [
      "\u001b[0;31m---------------------------------------------------------------------------\u001b[0m",
      "\u001b[0;31mNameError\u001b[0m                                 Traceback (most recent call last)",
      "\u001b[0;32m<ipython-input-7-6111bbd24b91>\u001b[0m in \u001b[0;36m<module>\u001b[0;34m\u001b[0m\n\u001b[0;32m----> 1\u001b[0;31m \u001b[0mdf\u001b[0m \u001b[0;34m=\u001b[0m \u001b[0mread_dbc\u001b[0m\u001b[0;34m(\u001b[0m\u001b[0mfilename\u001b[0m\u001b[0;34m,\u001b[0m \u001b[0mencoding\u001b[0m\u001b[0;34m=\u001b[0m\u001b[0;34m'iso-8859-1'\u001b[0m\u001b[0;34m)\u001b[0m\u001b[0;34m\u001b[0m\u001b[0;34m\u001b[0m\u001b[0m\n\u001b[0m",
      "\u001b[0;31mNameError\u001b[0m: name 'filename' is not defined"
     ]
    }
   ],
   "source": [
    "# df = read_dbc(filename, encoding='iso-8859-1')"
   ]
  }
 ],
 "metadata": {
  "kernelspec": {
   "display_name": "Python 3",
   "language": "python",
   "name": "python3"
  },
  "language_info": {
   "codemirror_mode": {
    "name": "ipython",
    "version": 3
   },
   "file_extension": ".py",
   "mimetype": "text/x-python",
   "name": "python",
   "nbconvert_exporter": "python",
   "pygments_lexer": "ipython3",
   "version": "3.7.6"
  }
 },
 "nbformat": 4,
 "nbformat_minor": 4
}
