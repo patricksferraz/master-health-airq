{
 "cells": [
  {
   "cell_type": "markdown",
   "metadata": {},
   "source": []
  },
  {
   "cell_type": "code",
   "execution_count": 1,
   "metadata": {},
   "outputs": [],
   "source": [
    "# Import packages\n",
    "import pandas as pd\n",
    "import xlrd\n",
    "import glob"
   ]
  },
  {
   "cell_type": "code",
   "execution_count": 2,
   "metadata": {},
   "outputs": [],
   "source": [
    "# Global variables\n",
    "PATH_AQ = '../datas/raw/mr-ssa/airquality'\n",
    "PATH_WT = '../datas/raw/mr-ssa/weather'\n",
    "AIRQ_OUT = '../datas/preprocessing/mr-ssa/airquality'\n",
    "WTHR_OUT = '../datas/preprocessing/mr-ssa/weather'"
   ]
  },
  {
   "cell_type": "code",
   "execution_count": 3,
   "metadata": {},
   "outputs": [],
   "source": [
    "# Function to generate csv from xlsx\n",
    "def gen_csv_aq(files_in: [str], path_out: str):\n",
    "    for file in files_in:\n",
    "        print(f'Starting {file}')\n",
    "        \n",
    "        # Open excel file\n",
    "        wb = xlrd.open_workbook(file)\n",
    "        \n",
    "        # Get station name\n",
    "        station = file.split('/')[-1]\n",
    "        station = station[:-5]\n",
    "        \n",
    "        # Get all sheets\n",
    "        sheet_names = wb.sheet_names()\n",
    "        \n",
    "        for sheet_name in sheet_names:\n",
    "            # Get sheet\n",
    "            sheet = wb.sheet_by_name(sheet_name)\n",
    "\n",
    "            # Rows number\n",
    "            nrows = sheet.nrows\n",
    "\n",
    "            # Get cols names\n",
    "            cols = sheet.row_values(2)\n",
    "\n",
    "            # Get units\n",
    "            units = sheet.row_values(3)\n",
    "\n",
    "            # Concatenate cols with units\n",
    "            for i in range(1, len(cols)):\n",
    "                cols[i] = f'{cols[i]} ({units[i]})'\n",
    "\n",
    "            # Init dataframe\n",
    "            df = pd.DataFrame(columns=cols)\n",
    "\n",
    "            # Get only valid datas\n",
    "            for r in range(4, nrows-8):\n",
    "                aux = pd.DataFrame([sheet.row_values(r)], columns=cols)\n",
    "                df = pd.concat([df, aux], ignore_index=True)\n",
    "\n",
    "            # Generate output name\n",
    "            f_out = f'{path_out}/{station}-{sheet_name}'\n",
    "            \n",
    "            # Generate gzip output file\n",
    "            df.to_csv(f'{f_out}.csv.gz', index=False, compression='gzip')\n",
    "            \n",
    "            print(f'[DONE] {f_out}.zip')\n",
    "            \n",
    "        print(f'Ending {file}')\n",
    "    print('Ending all.')"
   ]
  },
  {
   "cell_type": "code",
   "execution_count": 4,
   "metadata": {},
   "outputs": [],
   "source": [
    "# Function to generate csv from xls\n",
    "def gen_csv_wt(files_in: [str], path_out: str):\n",
    "    for file in files_in:\n",
    "        print(f'Starting {file}')\n",
    "\n",
    "        # Open excel file\n",
    "        wb = xlrd.open_workbook(file)\n",
    "\n",
    "        # Get year\n",
    "        year = file.split('/')[-1]\n",
    "        year = year[-8:-4]\n",
    "\n",
    "        # Get sheet\n",
    "        sheet = wb.sheet_by_index(0)\n",
    "\n",
    "        # Rows number\n",
    "        nrows = sheet.nrows\n",
    "\n",
    "        # Get cols names with counts\n",
    "        stations = sheet.row_values(2, start_colx=1)\n",
    "        stations_u = list(dict.fromkeys(stations))\n",
    "        stations_c = { x: stations.count(x) for x in stations_u}\n",
    "\n",
    "        index_col = sheet.cell_value(3,0)\n",
    "\n",
    "        colx = dict(start_colx=1, end_colx=0)\n",
    "        for st in stations_c:\n",
    "            colx['end_colx'] = colx['start_colx'] + stations_c[st]\n",
    "\n",
    "            # Get cols names\n",
    "            cols = [index_col]\n",
    "            cols.extend(sheet.row_values(3, **colx))\n",
    "\n",
    "            # Get units\n",
    "            units = sheet.row_values(4, **colx)\n",
    "\n",
    "            # Concatenate cols with units\n",
    "            for i in range(1, len(cols)):\n",
    "                cols[i] = f'{cols[i]} ({units[i-1]})'\n",
    "\n",
    "            # Init dataframe\n",
    "            df = pd.DataFrame(columns=cols)\n",
    "\n",
    "            # Get only valid datas\n",
    "            for r in range(5, nrows-8):\n",
    "                register = [sheet.cell_value(r, 0)]\n",
    "                register.extend(sheet.row_values(r, **colx))\n",
    "                aux = pd.DataFrame([register], columns=cols)\n",
    "                df = pd.concat([df, aux], ignore_index=True)\n",
    "\n",
    "            # Generate output name\n",
    "            f_out = f'{WTHR_OUT}/{st}-{year}.csv.gz'\n",
    "\n",
    "            # Generate gzip output file\n",
    "            df.to_csv(f_out, index=False, compression='gzip')\n",
    "\n",
    "            colx['start_colx'] = colx['end_colx']\n",
    "            print(f'[DONE] {f_out}')\n",
    "            \n",
    "        print(f'Ending {file}')\n",
    "    print('Ending all.') "
   ]
  },
  {
   "cell_type": "code",
   "execution_count": 5,
   "metadata": {},
   "outputs": [
    {
     "data": {
      "text/plain": [
       "['../datas/raw/mr-ssa/airquality/av-acm-detran.xlsx',\n",
       " '../datas/raw/mr-ssa/airquality/barros-reis.xlsx',\n",
       " '../datas/raw/mr-ssa/airquality/campo-grande.xlsx',\n",
       " '../datas/raw/mr-ssa/airquality/itaigara.xlsx',\n",
       " '../datas/raw/mr-ssa/airquality/paralela.xlsx',\n",
       " '../datas/raw/mr-ssa/airquality/piraja.xlsx']"
      ]
     },
     "execution_count": 5,
     "metadata": {},
     "output_type": "execute_result"
    }
   ],
   "source": [
    "# Get air quality excel files\n",
    "f_airq = [f for f in glob.glob(PATH_AQ + \"/*.xlsx\")]\n",
    "f_airq"
   ]
  },
  {
   "cell_type": "code",
   "execution_count": 6,
   "metadata": {},
   "outputs": [
    {
     "name": "stdout",
     "output_type": "stream",
     "text": [
      "Starting ../datas/raw/mr-ssa/airquality/av-acm-detran.xlsx\n",
      "[DONE] ../datas/preprocessing/mr-ssa/airquality/av-acm-detran-2013.zip\n",
      "[DONE] ../datas/preprocessing/mr-ssa/airquality/av-acm-detran-2014.zip\n",
      "[DONE] ../datas/preprocessing/mr-ssa/airquality/av-acm-detran-2015.zip\n",
      "Ending ../datas/raw/mr-ssa/airquality/av-acm-detran.xlsx\n",
      "Starting ../datas/raw/mr-ssa/airquality/barros-reis.xlsx\n",
      "[DONE] ../datas/preprocessing/mr-ssa/airquality/barros-reis-2013.zip\n",
      "[DONE] ../datas/preprocessing/mr-ssa/airquality/barros-reis-2014.zip\n",
      "[DONE] ../datas/preprocessing/mr-ssa/airquality/barros-reis-2015.zip\n",
      "Ending ../datas/raw/mr-ssa/airquality/barros-reis.xlsx\n",
      "Starting ../datas/raw/mr-ssa/airquality/campo-grande.xlsx\n",
      "[DONE] ../datas/preprocessing/mr-ssa/airquality/campo-grande-2013.zip\n",
      "[DONE] ../datas/preprocessing/mr-ssa/airquality/campo-grande-2014.zip\n",
      "[DONE] ../datas/preprocessing/mr-ssa/airquality/campo-grande-2015.zip\n",
      "Ending ../datas/raw/mr-ssa/airquality/campo-grande.xlsx\n",
      "Starting ../datas/raw/mr-ssa/airquality/itaigara.xlsx\n",
      "[DONE] ../datas/preprocessing/mr-ssa/airquality/itaigara-2013.zip\n",
      "[DONE] ../datas/preprocessing/mr-ssa/airquality/itaigara-2014.zip\n",
      "[DONE] ../datas/preprocessing/mr-ssa/airquality/itaigara-2015.zip\n",
      "Ending ../datas/raw/mr-ssa/airquality/itaigara.xlsx\n",
      "Starting ../datas/raw/mr-ssa/airquality/paralela.xlsx\n",
      "[DONE] ../datas/preprocessing/mr-ssa/airquality/paralela-2013.zip\n",
      "[DONE] ../datas/preprocessing/mr-ssa/airquality/paralela-2014.zip\n",
      "[DONE] ../datas/preprocessing/mr-ssa/airquality/paralela-2015.zip\n",
      "Ending ../datas/raw/mr-ssa/airquality/paralela.xlsx\n",
      "Starting ../datas/raw/mr-ssa/airquality/piraja.xlsx\n",
      "[DONE] ../datas/preprocessing/mr-ssa/airquality/piraja-2013.zip\n",
      "[DONE] ../datas/preprocessing/mr-ssa/airquality/piraja-2014.zip\n",
      "[DONE] ../datas/preprocessing/mr-ssa/airquality/piraja-2015.zip\n",
      "Ending ../datas/raw/mr-ssa/airquality/piraja.xlsx\n",
      "Ending all.\n"
     ]
    }
   ],
   "source": [
    "gen_csv_aq(f_airq, AIRQ_OUT)"
   ]
  },
  {
   "cell_type": "code",
   "execution_count": 7,
   "metadata": {},
   "outputs": [
    {
     "data": {
      "text/plain": [
       "['../datas/raw/mr-ssa/weather/rmar-2013.xls',\n",
       " '../datas/raw/mr-ssa/weather/rmar-2014.xls',\n",
       " '../datas/raw/mr-ssa/weather/rmar-2015.xls']"
      ]
     },
     "execution_count": 7,
     "metadata": {},
     "output_type": "execute_result"
    }
   ],
   "source": [
    "# Get weather excel files\n",
    "f_wthr = [f for f in glob.glob(PATH_WT + \"/*.xls\")]\n",
    "f_wthr"
   ]
  },
  {
   "cell_type": "code",
   "execution_count": 8,
   "metadata": {},
   "outputs": [
    {
     "name": "stdout",
     "output_type": "stream",
     "text": [
      "Starting ../datas/raw/mr-ssa/weather/rmar-2013.xls\n",
      "[DONE] ../datas/preprocessing/mr-ssa/weather/AV. ACM - DETRAN-2013.csv.gz\n",
      "[DONE] ../datas/preprocessing/mr-ssa/weather/AV. BARROS REIS-2013.csv.gz\n",
      "[DONE] ../datas/preprocessing/mr-ssa/weather/CAMPO GRANDE-2013.csv.gz\n",
      "[DONE] ../datas/preprocessing/mr-ssa/weather/DIQUE DO TORORO-2013.csv.gz\n",
      "[DONE] ../datas/preprocessing/mr-ssa/weather/ITAIGARA-2013.csv.gz\n",
      "[DONE] ../datas/preprocessing/mr-ssa/weather/PARALELA-CAB-2013.csv.gz\n",
      "[DONE] ../datas/preprocessing/mr-ssa/weather/PIRAJA-2013.csv.gz\n",
      "[DONE] ../datas/preprocessing/mr-ssa/weather/RIO VERMELHO-2013.csv.gz\n",
      "Ending ../datas/raw/mr-ssa/weather/rmar-2013.xls\n",
      "Starting ../datas/raw/mr-ssa/weather/rmar-2014.xls\n",
      "[DONE] ../datas/preprocessing/mr-ssa/weather/AV. ACM - DETRAN-2014.csv.gz\n",
      "[DONE] ../datas/preprocessing/mr-ssa/weather/AV. BARROS REIS-2014.csv.gz\n",
      "[DONE] ../datas/preprocessing/mr-ssa/weather/CAMPO GRANDE-2014.csv.gz\n",
      "[DONE] ../datas/preprocessing/mr-ssa/weather/DIQUE DO TORORO-2014.csv.gz\n",
      "[DONE] ../datas/preprocessing/mr-ssa/weather/ITAIGARA-2014.csv.gz\n",
      "[DONE] ../datas/preprocessing/mr-ssa/weather/PARALELA-CAB-2014.csv.gz\n",
      "[DONE] ../datas/preprocessing/mr-ssa/weather/PIRAJA-2014.csv.gz\n",
      "[DONE] ../datas/preprocessing/mr-ssa/weather/RIO VERMELHO-2014.csv.gz\n",
      "Ending ../datas/raw/mr-ssa/weather/rmar-2014.xls\n",
      "Starting ../datas/raw/mr-ssa/weather/rmar-2015.xls\n",
      "[DONE] ../datas/preprocessing/mr-ssa/weather/AV. ACM - DETRAN-2015.csv.gz\n",
      "[DONE] ../datas/preprocessing/mr-ssa/weather/AV. BARROS REIS-2015.csv.gz\n",
      "[DONE] ../datas/preprocessing/mr-ssa/weather/CAMPO GRANDE-2015.csv.gz\n",
      "[DONE] ../datas/preprocessing/mr-ssa/weather/DIQUE DO TORORO-2015.csv.gz\n",
      "[DONE] ../datas/preprocessing/mr-ssa/weather/ITAIGARA-2015.csv.gz\n",
      "[DONE] ../datas/preprocessing/mr-ssa/weather/PARALELA-CAB-2015.csv.gz\n",
      "[DONE] ../datas/preprocessing/mr-ssa/weather/PIRAJA-2015.csv.gz\n",
      "[DONE] ../datas/preprocessing/mr-ssa/weather/RIO VERMELHO-2015.csv.gz\n",
      "Ending ../datas/raw/mr-ssa/weather/rmar-2015.xls\n",
      "Ending all.\n"
     ]
    }
   ],
   "source": [
    "gen_csv_wt(f_wthr, WTHR_OUT)"
   ]
  }
 ],
 "metadata": {
  "kernelspec": {
   "display_name": "Python 3",
   "language": "python",
   "name": "python3"
  },
  "language_info": {
   "codemirror_mode": {
    "name": "ipython",
    "version": 3
   },
   "file_extension": ".py",
   "mimetype": "text/x-python",
   "name": "python",
   "nbconvert_exporter": "python",
   "pygments_lexer": "ipython3",
   "version": "3.8.1"
  }
 },
 "nbformat": 4,
 "nbformat_minor": 4
}
