{
 "cells": [
  {
   "cell_type": "markdown",
   "metadata": {},
   "source": []
  },
  {
   "cell_type": "code",
   "execution_count": 1,
   "metadata": {},
   "outputs": [],
   "source": [
    "# Import packages\n",
    "import pandas as pd\n",
    "import xlrd\n",
    "import glob"
   ]
  },
  {
   "cell_type": "code",
   "execution_count": 2,
   "metadata": {},
   "outputs": [],
   "source": [
    "# Global variables\n",
    "PATH = '../datas/raw/mr-ssa/airquality'\n",
    "AIRQ_OUT = '../datas/preprocessing/mr-ssa/airquality'"
   ]
  },
  {
   "cell_type": "code",
   "execution_count": 3,
   "metadata": {},
   "outputs": [],
   "source": [
    "# Function to generate csv from xlsx\n",
    "def gen_csv(files_in: [str], path_out: str):\n",
    "    for file in files_in:\n",
    "        print(f'Starting {file}')\n",
    "        \n",
    "        # Open excel file\n",
    "        wb = xlrd.open_workbook(file)\n",
    "        \n",
    "        # Get station name\n",
    "        station = file.split('/')[-1]\n",
    "        station = station[:-5]\n",
    "        \n",
    "        # Get all sheets\n",
    "        sheet_names = wb.sheet_names()\n",
    "        \n",
    "        for sheet_name in sheet_names:\n",
    "            # Get sheet\n",
    "            sheet = wb.sheet_by_name(sheet_name)\n",
    "\n",
    "            # Rows number\n",
    "            nrows = sheet.nrows\n",
    "\n",
    "            # Get cols names\n",
    "            cols = sheet.row_values(2)\n",
    "\n",
    "            # Get units\n",
    "            units = sheet.row_values(3)\n",
    "\n",
    "            # Concatenate cols with units\n",
    "            for i in range(1, len(cols)):\n",
    "                cols[i] = f'{cols[i]} ({units[i]})'\n",
    "\n",
    "            # Init dataframe\n",
    "            df = pd.DataFrame(columns=cols)\n",
    "\n",
    "            # Get only valid datas\n",
    "            for r in range(4, nrows-8):\n",
    "                aux = pd.DataFrame([sheet.row_values(r)], columns=cols)\n",
    "                df = pd.concat([df, aux], ignore_index=True)\n",
    "\n",
    "            # Generate output name\n",
    "            f_out = f'{path_out}/{station}-{sheet_name}'\n",
    "            \n",
    "            # Generate gzip output file\n",
    "            df.to_csv(f'{f_out}.csv.gz', index=False, compression='gzip')\n",
    "            \n",
    "            print(f'[DONE] {f_out}.zip')\n",
    "            \n",
    "        print(f'Ending {file}')\n",
    "    print('Ending all.')"
   ]
  },
  {
   "cell_type": "code",
   "execution_count": 4,
   "metadata": {},
   "outputs": [
    {
     "data": {
      "text/plain": [
       "['../datas/raw/mr-ssa/airquality/av-acm-detran.xlsx',\n",
       " '../datas/raw/mr-ssa/airquality/barros-reis.xlsx',\n",
       " '../datas/raw/mr-ssa/airquality/campo-grande.xlsx',\n",
       " '../datas/raw/mr-ssa/airquality/itaigara.xlsx',\n",
       " '../datas/raw/mr-ssa/airquality/paralela.xlsx',\n",
       " '../datas/raw/mr-ssa/airquality/piraja.xlsx']"
      ]
     },
     "execution_count": 4,
     "metadata": {},
     "output_type": "execute_result"
    }
   ],
   "source": [
    "# Get air quality excel files\n",
    "f_airq = [f for f in glob.glob(PATH + \"/*.xlsx\")]\n",
    "f_airq"
   ]
  },
  {
   "cell_type": "code",
   "execution_count": 5,
   "metadata": {},
   "outputs": [
    {
     "name": "stdout",
     "output_type": "stream",
     "text": [
      "Starting ../datas/raw/mr-ssa/airquality/av-acm-detran.xlsx\n",
      "[DONE] ../datas/preprocessing/mr-ssa/airquality/av-acm-detran-2013.zip\n",
      "[DONE] ../datas/preprocessing/mr-ssa/airquality/av-acm-detran-2014.zip\n",
      "[DONE] ../datas/preprocessing/mr-ssa/airquality/av-acm-detran-2015.zip\n",
      "Ending ../datas/raw/mr-ssa/airquality/av-acm-detran.xlsx\n",
      "Starting ../datas/raw/mr-ssa/airquality/barros-reis.xlsx\n",
      "[DONE] ../datas/preprocessing/mr-ssa/airquality/barros-reis-2013.zip\n",
      "[DONE] ../datas/preprocessing/mr-ssa/airquality/barros-reis-2014.zip\n",
      "[DONE] ../datas/preprocessing/mr-ssa/airquality/barros-reis-2015.zip\n",
      "Ending ../datas/raw/mr-ssa/airquality/barros-reis.xlsx\n",
      "Starting ../datas/raw/mr-ssa/airquality/campo-grande.xlsx\n",
      "[DONE] ../datas/preprocessing/mr-ssa/airquality/campo-grande-2013.zip\n",
      "[DONE] ../datas/preprocessing/mr-ssa/airquality/campo-grande-2014.zip\n",
      "[DONE] ../datas/preprocessing/mr-ssa/airquality/campo-grande-2015.zip\n",
      "Ending ../datas/raw/mr-ssa/airquality/campo-grande.xlsx\n",
      "Starting ../datas/raw/mr-ssa/airquality/itaigara.xlsx\n",
      "[DONE] ../datas/preprocessing/mr-ssa/airquality/itaigara-2013.zip\n",
      "[DONE] ../datas/preprocessing/mr-ssa/airquality/itaigara-2014.zip\n",
      "[DONE] ../datas/preprocessing/mr-ssa/airquality/itaigara-2015.zip\n",
      "Ending ../datas/raw/mr-ssa/airquality/itaigara.xlsx\n",
      "Starting ../datas/raw/mr-ssa/airquality/paralela.xlsx\n",
      "[DONE] ../datas/preprocessing/mr-ssa/airquality/paralela-2013.zip\n",
      "[DONE] ../datas/preprocessing/mr-ssa/airquality/paralela-2014.zip\n",
      "[DONE] ../datas/preprocessing/mr-ssa/airquality/paralela-2015.zip\n",
      "Ending ../datas/raw/mr-ssa/airquality/paralela.xlsx\n",
      "Starting ../datas/raw/mr-ssa/airquality/piraja.xlsx\n",
      "[DONE] ../datas/preprocessing/mr-ssa/airquality/piraja-2013.zip\n",
      "[DONE] ../datas/preprocessing/mr-ssa/airquality/piraja-2014.zip\n",
      "[DONE] ../datas/preprocessing/mr-ssa/airquality/piraja-2015.zip\n",
      "Ending ../datas/raw/mr-ssa/airquality/piraja.xlsx\n",
      "Ending all.\n"
     ]
    }
   ],
   "source": [
    "gen_csv(f_airq, AIRQ_OUT)"
   ]
  }
 ],
 "metadata": {
  "kernelspec": {
   "display_name": "Python 3",
   "language": "python",
   "name": "python3"
  },
  "language_info": {
   "codemirror_mode": {
    "name": "ipython",
    "version": 3
   },
   "file_extension": ".py",
   "mimetype": "text/x-python",
   "name": "python",
   "nbconvert_exporter": "python",
   "pygments_lexer": "ipython3",
   "version": "3.8.1"
  }
 },
 "nbformat": 4,
 "nbformat_minor": 4
}
