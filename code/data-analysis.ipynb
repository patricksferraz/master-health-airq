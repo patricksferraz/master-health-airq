{
 "cells": [
  {
   "cell_type": "markdown",
   "metadata": {},
   "source": [
    "# Qualidade do ar e problemas respiratórios na região metropolitana de Salvador-Bahia: uma análise estatística"
   ]
  },
  {
   "cell_type": "code",
   "execution_count": 7,
   "metadata": {
    "collapsed": true,
    "jupyter": {
     "outputs_hidden": true
    }
   },
   "outputs": [
    {
     "name": "stdout",
     "output_type": "stream",
     "text": [
      "--2020-04-01 23:36:05--  ftp://geoftp.ibge.gov.br/organizacao_do_territorio/malhas_territoriais/malhas_municipais/municipio_2018/Brasil/BR/\n",
      "           => ‘meshes_br2018/.listing’\n",
      "Resolving geoftp.ibge.gov.br (geoftp.ibge.gov.br)... 170.84.40.11\n",
      "Connecting to geoftp.ibge.gov.br (geoftp.ibge.gov.br)|170.84.40.11|:21... connected.\n",
      "Logging in as anonymous ... Logged in!\n",
      "==> SYST ... done.    ==> PWD ... done.\n",
      "==> TYPE I ... done.  ==> CWD (1) /organizacao_do_territorio/malhas_territoriais/malhas_municipais/municipio_2018/Brasil/BR ... done.\n",
      "==> PASV ... done.    ==> LIST ... done.\n",
      "\n",
      ".listing                [ <=>                ]     501  --.-KB/s    in 0s      \n",
      "\n",
      "2020-04-01 23:36:10 (29.0 MB/s) - ‘meshes_br2018/.listing’ saved [501]\n",
      "\n",
      "Removed ‘meshes_br2018/.listing’.\n",
      "--2020-04-01 23:36:10--  ftp://geoftp.ibge.gov.br/organizacao_do_territorio/malhas_territoriais/malhas_municipais/municipio_2018/Brasil/BR/BR.zip\n",
      "           => ‘meshes_br2018/BR.zip’\n",
      "==> CWD not required.\n",
      "==> PASV ... done.    ==> RETR BR.zip ... done.\n",
      "Length: 215157192 (205M)\n",
      "\n",
      "BR.zip              100%[===================>] 205.19M   104KB/s    in 21m 22s \n",
      "\n",
      "2020-04-01 23:57:34 (164 KB/s) - ‘meshes_br2018/BR.zip’ saved [215157192]\n",
      "\n",
      "--2020-04-01 23:57:34--  ftp://geoftp.ibge.gov.br/organizacao_do_territorio/malhas_territoriais/malhas_municipais/municipio_2018/Brasil/BR/br_mesorregioes.zip\n",
      "           => ‘meshes_br2018/br_mesorregioes.zip’\n",
      "==> CWD not required.\n",
      "==> PASV ... done.    ==> RETR br_mesorregioes.zip ... done.\n",
      "Length: 24745561 (24M)\n",
      "\n",
      "br_mesorregioes.zip 100%[===================>]  23.60M   283KB/s    in 1m 58s  \n",
      "\n",
      "2020-04-01 23:59:34 (205 KB/s) - ‘meshes_br2018/br_mesorregioes.zip’ saved [24745561]\n",
      "\n",
      "--2020-04-01 23:59:34--  ftp://geoftp.ibge.gov.br/organizacao_do_territorio/malhas_territoriais/malhas_municipais/municipio_2018/Brasil/BR/br_microrregioes.zip\n",
      "           => ‘meshes_br2018/br_microrregioes.zip’\n",
      "==> CWD not required.\n",
      "==> PASV ... done.    ==> RETR br_microrregioes.zip ... done.\n",
      "Length: 46765750 (45M)\n",
      "\n",
      "br_microrregioes.zi 100%[===================>]  44.60M  75.5KB/s    in 4m 23s  \n",
      "\n",
      "2020-04-02 00:03:58 (174 KB/s) - ‘meshes_br2018/br_microrregioes.zip’ saved [46765750]\n",
      "\n",
      "--2020-04-02 00:03:58--  ftp://geoftp.ibge.gov.br/organizacao_do_territorio/malhas_territoriais/malhas_municipais/municipio_2018/Brasil/BR/br_municipios.zip\n",
      "           => ‘meshes_br2018/br_municipios.zip’\n",
      "==> CWD not required.\n",
      "==> PASV ... done.    ==> RETR br_municipios.zip ... done.\n",
      "Length: 128030737 (122M)\n",
      "\n",
      "br_municipios.zip   100%[===================>] 122.10M   395KB/s    in 8m 8s   \n",
      "\n",
      "2020-04-02 00:12:08 (256 KB/s) - ‘meshes_br2018/br_municipios.zip’ saved [128030737]\n",
      "\n",
      "--2020-04-02 00:12:08--  ftp://geoftp.ibge.gov.br/organizacao_do_territorio/malhas_territoriais/malhas_municipais/municipio_2018/Brasil/BR/br_unidades_da_federacao.zip\n",
      "           => ‘meshes_br2018/br_unidades_da_federacao.zip’\n",
      "==> CWD not required.\n",
      "==> PASV ... done.    ==> RETR br_unidades_da_federacao.zip ... done.\n",
      "Length: 8782787 (8.4M)\n",
      "\n",
      "br_unidades_da_fede 100%[===================>]   8.38M   312KB/s    in 39s     \n",
      "\n",
      "2020-04-02 00:12:49 (220 KB/s) - ‘meshes_br2018/br_unidades_da_federacao.zip’ saved [8782787]\n",
      "\n",
      "--2020-04-02 00:12:49--  ftp://geoftp.ibge.gov.br/organizacao_do_territorio/malhas_territoriais/malhas_municipais/municipio_2018/Leia_me_Malha_Digital_2018.pdf\n",
      "           => ‘meshes_br2018/.listing’\n",
      "Connecting to geoftp.ibge.gov.br (geoftp.ibge.gov.br)|170.84.40.11|:21... connected.\n",
      "Logging in as anonymous ... Logged in!\n",
      "==> SYST ... done.    ==> PWD ... done.\n",
      "==> TYPE I ... done.  ==> CWD (1) /organizacao_do_territorio/malhas_territoriais/malhas_municipais/municipio_2018 ... done.\n",
      "==> PASV ... done.    ==> LIST ... done.\n",
      "\n",
      ".listing                [ <=>                ]     332  --.-KB/s    in 0s      \n",
      "\n",
      "2020-04-02 00:12:54 (44.6 MB/s) - ‘meshes_br2018/.listing’ saved [332]\n",
      "\n",
      "Removed ‘meshes_br2018/.listing’.\n",
      "--2020-04-02 00:12:54--  ftp://geoftp.ibge.gov.br/organizacao_do_territorio/malhas_territoriais/malhas_municipais/municipio_2018/Leia_me_Malha_Digital_2018.pdf\n",
      "           => ‘meshes_br2018/Leia_me_Malha_Digital_2018.pdf’\n",
      "==> CWD not required.\n",
      "==> PASV ... done.    ==> RETR Leia_me_Malha_Digital_2018.pdf ... done.\n",
      "Length: 197139 (193K)\n",
      "\n",
      "Leia_me_Malha_Digit 100%[===================>] 192.52K   115KB/s    in 1.7s    \n",
      "\n",
      "2020-04-02 00:12:57 (115 KB/s) - ‘meshes_br2018/Leia_me_Malha_Digital_2018.pdf’ saved [197139]\n",
      "\n",
      "FINISHED --2020-04-02 00:12:57--\n",
      "Total wall clock time: 36m 52s\n",
      "Downloaded: 6 files, 404M in 36m 32s (189 KB/s)\n"
     ]
    }
   ],
   "source": [
    "# Download Brazil territorial meshes\n",
    "!wget -r -np -nH -N -R \"*.html\" --no-directories --directory-prefix=meshes_br2018 \\\n",
    "    ftp://geoftp.ibge.gov.br/organizacao_do_territorio/malhas_territoriais/malhas_municipais/municipio_2018/Brasil/BR/ \\\n",
    "    ftp://geoftp.ibge.gov.br/organizacao_do_territorio/malhas_territoriais/malhas_municipais/municipio_2018/Leia_me_Malha_Digital_2018.pdf"
   ]
  },
  {
   "cell_type": "markdown",
   "metadata": {},
   "source": [
    "## Importação das bibliotecas"
   ]
  },
  {
   "cell_type": "code",
   "execution_count": 3,
   "metadata": {},
   "outputs": [],
   "source": [
    "from pandas_profiling import ProfileReport\n",
    "from ipywidgets import interact, widgets\n",
    "from IPython.display import Image\n",
    "\n",
    "import matplotlib.pyplot as plt\n",
    "import missingno as msno\n",
    "import seaborn as sns\n",
    "import pandas as pd\n",
    "import glob\n",
    "import os"
   ]
  },
  {
   "cell_type": "code",
   "execution_count": 4,
   "metadata": {},
   "outputs": [],
   "source": [
    "%matplotlib inline"
   ]
  },
  {
   "cell_type": "markdown",
   "metadata": {},
   "source": [
    "## Variáveis globais"
   ]
  },
  {
   "cell_type": "code",
   "execution_count": 5,
   "metadata": {},
   "outputs": [],
   "source": [
    "f_airq = '../datas/preprocessing/mr-ssa/airquality/cetrel/interval_1hour/airquality.csv.gz' # interval_15min\n",
    "f_wthr = '../datas/preprocessing/mr-ssa/weather/cetrel/weather.csv.gz'\n",
    "f_dsus = '../datas/preprocessing/mr-ssa/datasus/RD.csv.gz'\n",
    "\n",
    "I_COLS = dict(\n",
    "    aq_cols = widgets.SelectMultiple(),\n",
    "    wt_cols = widgets.SelectMultiple(),\n",
    "    ds_cols = widgets.SelectMultiple(),\n",
    ")"
   ]
  },
  {
   "cell_type": "markdown",
   "metadata": {},
   "source": [
    "## Funções"
   ]
  },
  {
   "cell_type": "code",
   "execution_count": 6,
   "metadata": {},
   "outputs": [],
   "source": [
    "def show_enum(arr: [str]) -> {int: str}:\n",
    "    return {idx: value for (idx, value) in enumerate(arr)}"
   ]
  },
  {
   "cell_type": "code",
   "execution_count": 7,
   "metadata": {},
   "outputs": [],
   "source": [
    "def describe_data(\n",
    "    df: pd.DataFrame, headers: [str] = None\n",
    ") -> pd.DataFrame:\n",
    "\n",
    "    def _apply(header: str, column: []):\n",
    "        _max = column.max()\n",
    "        _min = column.min()\n",
    "\n",
    "        _q1 = column.quantile(0.25)\n",
    "        _q3 = column.quantile(0.75)\n",
    "        _iqr = _q3 - _q1\n",
    "        _lower = max(_min, _q1 - (1.5 * _iqr))\n",
    "        _upper = min(_max, _q3 + (1.5 * _iqr))\n",
    "            \n",
    "\n",
    "        return {\n",
    "            'header': header,\n",
    "            'max': _max,\n",
    "            'min': _min,\n",
    "            'mean': column.mean(),\n",
    "            'median': column.median(),\n",
    "            'lower-limit': _lower,\n",
    "            'quartile-1': _q1,\n",
    "            'quartile-3': _q3,\n",
    "            'upper-limit': _upper,\n",
    "            'var': column.var(),\n",
    "            'std': column.std(),\n",
    "            'mad': column.mad(),\n",
    "            'amp': _max - _min,\n",
    "            'rms': (column.pow(2)).mean() ** 0.5,\n",
    "            'kurtosis': column.kurtosis(),\n",
    "            'skew': column.skew(),\n",
    "            'count': column.count(),\n",
    "            'nans': column.isna().sum(),\n",
    "        }\n",
    "\n",
    "    if not headers:\n",
    "        headers = df.columns\n",
    "\n",
    "    return pd.DataFrame(\n",
    "        [_apply(h, df[h]) for h in headers]\n",
    "    ).set_index('header')"
   ]
  },
  {
   "cell_type": "code",
   "execution_count": 8,
   "metadata": {},
   "outputs": [],
   "source": [
    "def show_dataframe(file: str, icols: str):\n",
    "    df = pd.read_csv(file, low_memory=False, compression='gzip')\n",
    "    I_COLS[icols].options = df.columns # Global\n",
    "    display(df)"
   ]
  },
  {
   "cell_type": "code",
   "execution_count": 9,
   "metadata": {},
   "outputs": [],
   "source": [
    "def show_describe(file: str, columns: [str]):\n",
    "    df = pd.read_csv(file, low_memory=False, compression='gzip')\n",
    "    display(describe_data(df, columns))\n",
    "    display(df.info())"
   ]
  },
  {
   "cell_type": "code",
   "execution_count": 10,
   "metadata": {},
   "outputs": [],
   "source": [
    "def show_missingno(file: str, method: str):\n",
    "    methods = dict(\n",
    "        dendrogram = msno.dendrogram,\n",
    "        heatmap = msno.heatmap,\n",
    "        matrix = msno.matrix,\n",
    "        bar = msno.bar,\n",
    "    )\n",
    "    df = pd.read_csv(file, low_memory=False, compression='gzip')\n",
    "    display(methods[method](df))"
   ]
  },
  {
   "cell_type": "code",
   "execution_count": 11,
   "metadata": {},
   "outputs": [],
   "source": [
    "def show_profiling(file: str, save_prof: bool):\n",
    "    df = pd.read_csv(file, low_memory=False, compression='gzip')\n",
    "    prof = ProfileReport(df, title=file.split('/')[-1])\n",
    "    prof.to_widgets()\n",
    "    if save_prof:\n",
    "        prof.to_file(output_file=f'{os.path.splitext(file)[0]}.html')"
   ]
  },
  {
   "cell_type": "markdown",
   "metadata": {},
   "source": [
    "## Análise descritiva"
   ]
  },
  {
   "cell_type": "markdown",
   "metadata": {},
   "source": [
    "### Air quality"
   ]
  },
  {
   "cell_type": "markdown",
   "metadata": {},
   "source": [
    "#### Dataframe"
   ]
  },
  {
   "cell_type": "code",
   "execution_count": 16,
   "metadata": {},
   "outputs": [
    {
     "data": {
      "application/vnd.jupyter.widget-view+json": {
       "model_id": "bfb4464ed42b4379ba419b1aebb00e9e",
       "version_major": 2,
       "version_minor": 0
      },
      "text/plain": [
       "interactive(children=(Text(value='../datas/preprocessing/mr-ssa/airquality/cetrel/interval_1hour/airquality.cs…"
      ]
     },
     "metadata": {},
     "output_type": "display_data"
    },
    {
     "data": {
      "text/plain": [
       "<function __main__.show_dataframe(file: str, icols: str)>"
      ]
     },
     "execution_count": 16,
     "metadata": {},
     "output_type": "execute_result"
    }
   ],
   "source": [
    "interact(show_dataframe, file=f_airq, icols='aq_cols')"
   ]
  },
  {
   "cell_type": "markdown",
   "metadata": {},
   "source": [
    "#### Missingno"
   ]
  },
  {
   "cell_type": "code",
   "execution_count": 17,
   "metadata": {},
   "outputs": [
    {
     "data": {
      "application/vnd.jupyter.widget-view+json": {
       "model_id": "33e69746fd5c410a9f1a39de45c7a5cd",
       "version_major": 2,
       "version_minor": 0
      },
      "text/plain": [
       "interactive(children=(Text(value='../datas/preprocessing/mr-ssa/airquality/cetrel/interval_1hour/airquality.cs…"
      ]
     },
     "metadata": {},
     "output_type": "display_data"
    },
    {
     "data": {
      "text/plain": [
       "<function __main__.show_missingno(file: str, method: str)>"
      ]
     },
     "execution_count": 17,
     "metadata": {},
     "output_type": "execute_result"
    }
   ],
   "source": [
    "interact(\n",
    "    show_missingno,\n",
    "    file=f_airq,\n",
    "    method=widgets.Dropdown(options=['bar', 'matrix', 'heatmap', 'dendrogram'])\n",
    ")"
   ]
  },
  {
   "cell_type": "markdown",
   "metadata": {},
   "source": [
    "#### Profiling"
   ]
  },
  {
   "cell_type": "code",
   "execution_count": 26,
   "metadata": {},
   "outputs": [
    {
     "data": {
      "application/vnd.jupyter.widget-view+json": {
       "model_id": "20f6808a44e94b03b2d8c598fbdf839a",
       "version_major": 2,
       "version_minor": 0
      },
      "text/plain": [
       "interactive(children=(Text(value='../datas/preprocessing/mr-ssa/airquality/cetrel/interval_1hour/airquality.cs…"
      ]
     },
     "metadata": {},
     "output_type": "display_data"
    },
    {
     "data": {
      "text/plain": [
       "<function __main__.show_profiling(file: str, save_prof: bool)>"
      ]
     },
     "execution_count": 26,
     "metadata": {},
     "output_type": "execute_result"
    }
   ],
   "source": [
    "interact(show_profiling, file=f_airq, save_prof=True)"
   ]
  },
  {
   "cell_type": "markdown",
   "metadata": {},
   "source": [
    "#### Describe"
   ]
  },
  {
   "cell_type": "code",
   "execution_count": 21,
   "metadata": {},
   "outputs": [
    {
     "data": {
      "application/vnd.jupyter.widget-view+json": {
       "model_id": "adebb41c666f4dcb9aad87db23e54198",
       "version_major": 2,
       "version_minor": 0
      },
      "text/plain": [
       "interactive(children=(Text(value='../datas/preprocessing/mr-ssa/airquality/cetrel/interval_1hour/airquality.cs…"
      ]
     },
     "metadata": {},
     "output_type": "display_data"
    },
    {
     "data": {
      "text/plain": [
       "<function __main__.show_describe(file: str, columns: [<class 'str'>])>"
      ]
     },
     "execution_count": 21,
     "metadata": {},
     "output_type": "execute_result"
    }
   ],
   "source": [
    "interact(show_describe, file=f_airq, columns=I_COLS['aq_cols'])"
   ]
  },
  {
   "cell_type": "markdown",
   "metadata": {},
   "source": [
    "#### Plot"
   ]
  },
  {
   "cell_type": "code",
   "execution_count": 19,
   "metadata": {},
   "outputs": [],
   "source": [
    "# df = pd.read_csv(f_airq[0], index_col='Date & Time', low_memory=False, compression='gzip')\n",
    "# df.plot()"
   ]
  },
  {
   "cell_type": "markdown",
   "metadata": {},
   "source": [
    "---"
   ]
  },
  {
   "cell_type": "markdown",
   "metadata": {},
   "source": [
    "### Weather"
   ]
  },
  {
   "cell_type": "markdown",
   "metadata": {},
   "source": [
    "#### Dataframe"
   ]
  },
  {
   "cell_type": "code",
   "execution_count": 12,
   "metadata": {},
   "outputs": [
    {
     "data": {
      "application/vnd.jupyter.widget-view+json": {
       "model_id": "8847009198ef4cfabe1aa06abb67dac8",
       "version_major": 2,
       "version_minor": 0
      },
      "text/plain": [
       "interactive(children=(Text(value='../datas/preprocessing/mr-ssa/weather/cetrel/weather.csv.gz', description='f…"
      ]
     },
     "metadata": {},
     "output_type": "display_data"
    },
    {
     "data": {
      "text/plain": [
       "<function __main__.show_dataframe(file: str, icols: str)>"
      ]
     },
     "execution_count": 12,
     "metadata": {},
     "output_type": "execute_result"
    }
   ],
   "source": [
    "interact(show_dataframe, file=f_wthr, icols='wt_cols')"
   ]
  },
  {
   "cell_type": "markdown",
   "metadata": {},
   "source": [
    "#### Missingno"
   ]
  },
  {
   "cell_type": "code",
   "execution_count": 13,
   "metadata": {},
   "outputs": [
    {
     "data": {
      "application/vnd.jupyter.widget-view+json": {
       "model_id": "bf1ba27cd78f4fe89a87ea30a8cbbfc1",
       "version_major": 2,
       "version_minor": 0
      },
      "text/plain": [
       "interactive(children=(Text(value='../datas/preprocessing/mr-ssa/weather/cetrel/weather.csv.gz', description='f…"
      ]
     },
     "metadata": {},
     "output_type": "display_data"
    },
    {
     "data": {
      "text/plain": [
       "<function __main__.show_missingno(file: str, method: str)>"
      ]
     },
     "execution_count": 13,
     "metadata": {},
     "output_type": "execute_result"
    }
   ],
   "source": [
    "interact(\n",
    "    show_missingno,\n",
    "    file=f_wthr,\n",
    "    method=widgets.Dropdown(options=['bar', 'matrix', 'heatmap', 'dendrogram'])\n",
    ")"
   ]
  },
  {
   "cell_type": "markdown",
   "metadata": {},
   "source": [
    "#### Profiling"
   ]
  },
  {
   "cell_type": "code",
   "execution_count": 14,
   "metadata": {},
   "outputs": [
    {
     "data": {
      "application/vnd.jupyter.widget-view+json": {
       "model_id": "93abab84902f4ae39ccd343846a246f2",
       "version_major": 2,
       "version_minor": 0
      },
      "text/plain": [
       "interactive(children=(Text(value='../datas/preprocessing/mr-ssa/weather/cetrel/weather.csv.gz', description='f…"
      ]
     },
     "metadata": {},
     "output_type": "display_data"
    },
    {
     "data": {
      "text/plain": [
       "<function __main__.show_profiling(file: str, save_prof: bool)>"
      ]
     },
     "execution_count": 14,
     "metadata": {},
     "output_type": "execute_result"
    }
   ],
   "source": [
    "interact(show_profiling, file=f_wthr, save_prof=True)"
   ]
  },
  {
   "cell_type": "markdown",
   "metadata": {},
   "source": [
    "#### Describe"
   ]
  },
  {
   "cell_type": "code",
   "execution_count": 16,
   "metadata": {},
   "outputs": [
    {
     "data": {
      "application/vnd.jupyter.widget-view+json": {
       "model_id": "2dabf01287af4d30ad28e28dd3cf60b8",
       "version_major": 2,
       "version_minor": 0
      },
      "text/plain": [
       "interactive(children=(Text(value='../datas/preprocessing/mr-ssa/weather/cetrel/weather.csv.gz', description='f…"
      ]
     },
     "metadata": {},
     "output_type": "display_data"
    },
    {
     "data": {
      "text/plain": [
       "<function __main__.show_describe(file: str, columns: [<class 'str'>])>"
      ]
     },
     "execution_count": 16,
     "metadata": {},
     "output_type": "execute_result"
    }
   ],
   "source": [
    "interact(show_describe, file=f_wthr, columns=I_COLS['wt_cols'])"
   ]
  },
  {
   "cell_type": "markdown",
   "metadata": {},
   "source": [
    "#### Plot"
   ]
  },
  {
   "cell_type": "code",
   "execution_count": null,
   "metadata": {},
   "outputs": [],
   "source": []
  },
  {
   "cell_type": "markdown",
   "metadata": {},
   "source": [
    "---"
   ]
  },
  {
   "cell_type": "markdown",
   "metadata": {},
   "source": [
    "### Datasus"
   ]
  },
  {
   "cell_type": "markdown",
   "metadata": {},
   "source": [
    "#### Dataframe"
   ]
  },
  {
   "cell_type": "code",
   "execution_count": 23,
   "metadata": {},
   "outputs": [
    {
     "data": {
      "application/vnd.jupyter.widget-view+json": {
       "model_id": "b832747a38934820a99aa66eef2e74cc",
       "version_major": 2,
       "version_minor": 0
      },
      "text/plain": [
       "interactive(children=(Text(value='../datas/preprocessing/mr-ssa/datasus/RD.csv.gz', description='file'), Text(…"
      ]
     },
     "metadata": {},
     "output_type": "display_data"
    },
    {
     "data": {
      "text/plain": [
       "<function __main__.show_dataframe(file: str, icols: str)>"
      ]
     },
     "execution_count": 23,
     "metadata": {},
     "output_type": "execute_result"
    }
   ],
   "source": [
    "interact(show_dataframe, file=f_dsus, icols='ds_cols')"
   ]
  },
  {
   "cell_type": "markdown",
   "metadata": {},
   "source": [
    "#### Missingno"
   ]
  },
  {
   "cell_type": "code",
   "execution_count": 24,
   "metadata": {},
   "outputs": [
    {
     "data": {
      "application/vnd.jupyter.widget-view+json": {
       "model_id": "8b548e23a9594df0b0ee1579c842eb43",
       "version_major": 2,
       "version_minor": 0
      },
      "text/plain": [
       "interactive(children=(Text(value='../datas/preprocessing/mr-ssa/datasus/RD.csv.gz', description='file'), Dropd…"
      ]
     },
     "metadata": {},
     "output_type": "display_data"
    },
    {
     "data": {
      "text/plain": [
       "<function __main__.show_missingno(file: str, method: str)>"
      ]
     },
     "execution_count": 24,
     "metadata": {},
     "output_type": "execute_result"
    }
   ],
   "source": [
    "interact(\n",
    "    show_missingno,\n",
    "    file=f_dsus,\n",
    "    method=widgets.Dropdown(options=['bar', 'matrix', 'heatmap', 'dendrogram'])\n",
    ")"
   ]
  },
  {
   "cell_type": "markdown",
   "metadata": {},
   "source": [
    "#### Profiling"
   ]
  },
  {
   "cell_type": "code",
   "execution_count": 17,
   "metadata": {},
   "outputs": [
    {
     "data": {
      "application/vnd.jupyter.widget-view+json": {
       "model_id": "41c14a3366f94cb88a8e138bc4a57d83",
       "version_major": 2,
       "version_minor": 0
      },
      "text/plain": [
       "interactive(children=(Text(value='../datas/preprocessing/mr-ssa/datasus/RD.csv.gz', description='file'), Check…"
      ]
     },
     "metadata": {},
     "output_type": "display_data"
    },
    {
     "data": {
      "text/plain": [
       "<function __main__.show_profiling(file: str, save_prof: bool)>"
      ]
     },
     "execution_count": 17,
     "metadata": {},
     "output_type": "execute_result"
    }
   ],
   "source": [
    "interact(show_profiling, file=f_dsus, save_prof=True)"
   ]
  },
  {
   "cell_type": "markdown",
   "metadata": {},
   "source": [
    "#### Describe"
   ]
  },
  {
   "cell_type": "code",
   "execution_count": null,
   "metadata": {},
   "outputs": [],
   "source": [
    "interact(show_describe, file=f_dsus, columns=I_COLS['ds_cols'])"
   ]
  },
  {
   "cell_type": "markdown",
   "metadata": {},
   "source": [
    "#### Plot"
   ]
  },
  {
   "cell_type": "code",
   "execution_count": null,
   "metadata": {},
   "outputs": [],
   "source": []
  }
 ],
 "metadata": {
  "kernelspec": {
   "display_name": "Python 3",
   "language": "python",
   "name": "python3"
  },
  "language_info": {
   "codemirror_mode": {
    "name": "ipython",
    "version": 3
   },
   "file_extension": ".py",
   "mimetype": "text/x-python",
   "name": "python",
   "nbconvert_exporter": "python",
   "pygments_lexer": "ipython3",
   "version": "3.8.2"
  }
 },
 "nbformat": 4,
 "nbformat_minor": 4
}
