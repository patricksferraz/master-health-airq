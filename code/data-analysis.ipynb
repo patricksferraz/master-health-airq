{
 "cells": [
  {
   "cell_type": "markdown",
   "metadata": {},
   "source": [
    "# Qualidade do ar e problemas respiratórios na região metropolitana de Salvador-Bahia: uma análise estatística"
   ]
  },
  {
   "cell_type": "code",
   "execution_count": 7,
   "metadata": {
    "collapsed": true,
    "jupyter": {
     "outputs_hidden": true
    }
   },
   "outputs": [
    {
     "name": "stdout",
     "output_type": "stream",
     "text": [
      "--2020-04-01 23:36:05--  ftp://geoftp.ibge.gov.br/organizacao_do_territorio/malhas_territoriais/malhas_municipais/municipio_2018/Brasil/BR/\n",
      "           => ‘meshes_br2018/.listing’\n",
      "Resolving geoftp.ibge.gov.br (geoftp.ibge.gov.br)... 170.84.40.11\n",
      "Connecting to geoftp.ibge.gov.br (geoftp.ibge.gov.br)|170.84.40.11|:21... connected.\n",
      "Logging in as anonymous ... Logged in!\n",
      "==> SYST ... done.    ==> PWD ... done.\n",
      "==> TYPE I ... done.  ==> CWD (1) /organizacao_do_territorio/malhas_territoriais/malhas_municipais/municipio_2018/Brasil/BR ... done.\n",
      "==> PASV ... done.    ==> LIST ... done.\n",
      "\n",
      ".listing                [ <=>                ]     501  --.-KB/s    in 0s      \n",
      "\n",
      "2020-04-01 23:36:10 (29.0 MB/s) - ‘meshes_br2018/.listing’ saved [501]\n",
      "\n",
      "Removed ‘meshes_br2018/.listing’.\n",
      "--2020-04-01 23:36:10--  ftp://geoftp.ibge.gov.br/organizacao_do_territorio/malhas_territoriais/malhas_municipais/municipio_2018/Brasil/BR/BR.zip\n",
      "           => ‘meshes_br2018/BR.zip’\n",
      "==> CWD not required.\n",
      "==> PASV ... done.    ==> RETR BR.zip ... done.\n",
      "Length: 215157192 (205M)\n",
      "\n",
      "BR.zip              100%[===================>] 205.19M   104KB/s    in 21m 22s \n",
      "\n",
      "2020-04-01 23:57:34 (164 KB/s) - ‘meshes_br2018/BR.zip’ saved [215157192]\n",
      "\n",
      "--2020-04-01 23:57:34--  ftp://geoftp.ibge.gov.br/organizacao_do_territorio/malhas_territoriais/malhas_municipais/municipio_2018/Brasil/BR/br_mesorregioes.zip\n",
      "           => ‘meshes_br2018/br_mesorregioes.zip’\n",
      "==> CWD not required.\n",
      "==> PASV ... done.    ==> RETR br_mesorregioes.zip ... done.\n",
      "Length: 24745561 (24M)\n",
      "\n",
      "br_mesorregioes.zip 100%[===================>]  23.60M   283KB/s    in 1m 58s  \n",
      "\n",
      "2020-04-01 23:59:34 (205 KB/s) - ‘meshes_br2018/br_mesorregioes.zip’ saved [24745561]\n",
      "\n",
      "--2020-04-01 23:59:34--  ftp://geoftp.ibge.gov.br/organizacao_do_territorio/malhas_territoriais/malhas_municipais/municipio_2018/Brasil/BR/br_microrregioes.zip\n",
      "           => ‘meshes_br2018/br_microrregioes.zip’\n",
      "==> CWD not required.\n",
      "==> PASV ... done.    ==> RETR br_microrregioes.zip ... done.\n",
      "Length: 46765750 (45M)\n",
      "\n",
      "br_microrregioes.zi 100%[===================>]  44.60M  75.5KB/s    in 4m 23s  \n",
      "\n",
      "2020-04-02 00:03:58 (174 KB/s) - ‘meshes_br2018/br_microrregioes.zip’ saved [46765750]\n",
      "\n",
      "--2020-04-02 00:03:58--  ftp://geoftp.ibge.gov.br/organizacao_do_territorio/malhas_territoriais/malhas_municipais/municipio_2018/Brasil/BR/br_municipios.zip\n",
      "           => ‘meshes_br2018/br_municipios.zip’\n",
      "==> CWD not required.\n",
      "==> PASV ... done.    ==> RETR br_municipios.zip ... done.\n",
      "Length: 128030737 (122M)\n",
      "\n",
      "br_municipios.zip   100%[===================>] 122.10M   395KB/s    in 8m 8s   \n",
      "\n",
      "2020-04-02 00:12:08 (256 KB/s) - ‘meshes_br2018/br_municipios.zip’ saved [128030737]\n",
      "\n",
      "--2020-04-02 00:12:08--  ftp://geoftp.ibge.gov.br/organizacao_do_territorio/malhas_territoriais/malhas_municipais/municipio_2018/Brasil/BR/br_unidades_da_federacao.zip\n",
      "           => ‘meshes_br2018/br_unidades_da_federacao.zip’\n",
      "==> CWD not required.\n",
      "==> PASV ... done.    ==> RETR br_unidades_da_federacao.zip ... done.\n",
      "Length: 8782787 (8.4M)\n",
      "\n",
      "br_unidades_da_fede 100%[===================>]   8.38M   312KB/s    in 39s     \n",
      "\n",
      "2020-04-02 00:12:49 (220 KB/s) - ‘meshes_br2018/br_unidades_da_federacao.zip’ saved [8782787]\n",
      "\n",
      "--2020-04-02 00:12:49--  ftp://geoftp.ibge.gov.br/organizacao_do_territorio/malhas_territoriais/malhas_municipais/municipio_2018/Leia_me_Malha_Digital_2018.pdf\n",
      "           => ‘meshes_br2018/.listing’\n",
      "Connecting to geoftp.ibge.gov.br (geoftp.ibge.gov.br)|170.84.40.11|:21... connected.\n",
      "Logging in as anonymous ... Logged in!\n",
      "==> SYST ... done.    ==> PWD ... done.\n",
      "==> TYPE I ... done.  ==> CWD (1) /organizacao_do_territorio/malhas_territoriais/malhas_municipais/municipio_2018 ... done.\n",
      "==> PASV ... done.    ==> LIST ... done.\n",
      "\n",
      ".listing                [ <=>                ]     332  --.-KB/s    in 0s      \n",
      "\n",
      "2020-04-02 00:12:54 (44.6 MB/s) - ‘meshes_br2018/.listing’ saved [332]\n",
      "\n",
      "Removed ‘meshes_br2018/.listing’.\n",
      "--2020-04-02 00:12:54--  ftp://geoftp.ibge.gov.br/organizacao_do_territorio/malhas_territoriais/malhas_municipais/municipio_2018/Leia_me_Malha_Digital_2018.pdf\n",
      "           => ‘meshes_br2018/Leia_me_Malha_Digital_2018.pdf’\n",
      "==> CWD not required.\n",
      "==> PASV ... done.    ==> RETR Leia_me_Malha_Digital_2018.pdf ... done.\n",
      "Length: 197139 (193K)\n",
      "\n",
      "Leia_me_Malha_Digit 100%[===================>] 192.52K   115KB/s    in 1.7s    \n",
      "\n",
      "2020-04-02 00:12:57 (115 KB/s) - ‘meshes_br2018/Leia_me_Malha_Digital_2018.pdf’ saved [197139]\n",
      "\n",
      "FINISHED --2020-04-02 00:12:57--\n",
      "Total wall clock time: 36m 52s\n",
      "Downloaded: 6 files, 404M in 36m 32s (189 KB/s)\n"
     ]
    }
   ],
   "source": [
    "# Download Brazil territorial meshes\n",
    "!wget -r -np -nH -N -R \"*.html\" --no-directories --directory-prefix=meshes_br2018 \\\n",
    "    ftp://geoftp.ibge.gov.br/organizacao_do_territorio/malhas_territoriais/malhas_municipais/municipio_2018/Brasil/BR/ \\\n",
    "    ftp://geoftp.ibge.gov.br/organizacao_do_territorio/malhas_territoriais/malhas_municipais/municipio_2018/Leia_me_Malha_Digital_2018.pdf"
   ]
  },
  {
   "cell_type": "markdown",
   "metadata": {},
   "source": [
    "## Importação das bibliotecas"
   ]
  },
  {
   "cell_type": "code",
   "execution_count": 1,
   "metadata": {},
   "outputs": [],
   "source": [
    "from ipywidgets import interact, widgets\n",
    "\n",
    "import pandas as pd\n",
    "import glob"
   ]
  },
  {
   "cell_type": "markdown",
   "metadata": {},
   "source": [
    "## Variáveis globais"
   ]
  },
  {
   "cell_type": "code",
   "execution_count": 60,
   "metadata": {},
   "outputs": [],
   "source": [
    "ARGS = dict(\n",
    "    path_airq = '../datas/preprocessing/mr-ssa/airquality/cetrel/interval_1hour/', # interval_15min\n",
    "    path_wthr = '../datas/preprocessing/mr-ssa/weather/cetrel/',\n",
    "    path_dsus = '../datas/preprocessing/mr-ssa/datasus/',\n",
    ")\n",
    "\n",
    "I_COLS = dict(\n",
    "    aq_cols = widgets.SelectMultiple(),\n",
    "    wt_cols = widgets.SelectMultiple(),\n",
    "    ds_cols = widgets.SelectMultiple(),\n",
    ")"
   ]
  },
  {
   "cell_type": "markdown",
   "metadata": {},
   "source": [
    "## Funções"
   ]
  },
  {
   "cell_type": "code",
   "execution_count": 3,
   "metadata": {},
   "outputs": [],
   "source": [
    "def show_enum(arr: [str]) -> {int: str}:\n",
    "    return {idx: value for (idx, value) in enumerate(arr)}"
   ]
  },
  {
   "cell_type": "code",
   "execution_count": 20,
   "metadata": {},
   "outputs": [],
   "source": [
    "def describe_data(\n",
    "    df: pd.DataFrame, headers: [str] = None\n",
    ") -> pd.DataFrame:\n",
    "\n",
    "    def _apply(header: str, column: []):\n",
    "        _max = column.max()\n",
    "        _min = column.min()\n",
    "\n",
    "        _q1 = column.quantile(0.25)\n",
    "        _q3 = column.quantile(0.75)\n",
    "        _iqr = _q3 - _q1\n",
    "        _lower = max(_min, _q1 - (1.5 * _iqr))\n",
    "        _upper = min(_max, _q3 + (1.5 * _iqr))\n",
    "            \n",
    "\n",
    "        return {\n",
    "            'header': header,\n",
    "            'max': _max,\n",
    "            'min': _min,\n",
    "            'mean': column.mean(),\n",
    "            'median': column.median(),\n",
    "            'lower-limit': _lower,\n",
    "            'quartile-1': _q1,\n",
    "            'quartile-3': _q3,\n",
    "            'upper-limit': _upper,\n",
    "            'var': column.var(),\n",
    "            'std': column.std(),\n",
    "            'mad': column.mad(),\n",
    "            'amp': _max - _min,\n",
    "            'rms': (column.pow(2)).mean() ** 0.5,\n",
    "            'kurtosis': column.kurtosis(),\n",
    "            'skew': column.skew(),\n",
    "            'count': column.count(),\n",
    "            'nans': column.isna().sum(),\n",
    "        }\n",
    "\n",
    "    if not headers:\n",
    "        headers = df.columns\n",
    "\n",
    "    return pd.DataFrame(\n",
    "        [_apply(h, df[h]) for h in headers]\n",
    "    ).set_index('header')"
   ]
  },
  {
   "cell_type": "code",
   "execution_count": 63,
   "metadata": {},
   "outputs": [],
   "source": [
    "def show_columns(file: str, icols: str):\n",
    "    df = pd.read_csv(file, low_memory=False, compression='gzip')\n",
    "    I_COLS[icols].options = df.columns # Global\n",
    "    display(show_enum(df.columns))"
   ]
  },
  {
   "cell_type": "code",
   "execution_count": 66,
   "metadata": {},
   "outputs": [],
   "source": [
    "def show_describe(file: str, columns: [str]):\n",
    "    df = pd.read_csv(file, low_memory=False, compression='gzip')\n",
    "    display(describe_data(df, columns))"
   ]
  },
  {
   "cell_type": "markdown",
   "metadata": {},
   "source": [
    "## Análise descritiva"
   ]
  },
  {
   "cell_type": "markdown",
   "metadata": {},
   "source": [
    "### Air quality"
   ]
  },
  {
   "cell_type": "code",
   "execution_count": 50,
   "metadata": {},
   "outputs": [
    {
     "data": {
      "text/plain": [
       "['../datas/preprocessing/mr-ssa/airquality/cetrel/interval_1hour/AV ACM - DETRAN.csv.gz',\n",
       " '../datas/preprocessing/mr-ssa/airquality/cetrel/interval_1hour/AV BARROS REIS.csv.gz',\n",
       " '../datas/preprocessing/mr-ssa/airquality/cetrel/interval_1hour/CAMPO GRANDE.csv.gz',\n",
       " '../datas/preprocessing/mr-ssa/airquality/cetrel/interval_1hour/DIQUE DO TORORÓ.csv.gz',\n",
       " '../datas/preprocessing/mr-ssa/airquality/cetrel/interval_1hour/ITAIGARA.csv.gz',\n",
       " '../datas/preprocessing/mr-ssa/airquality/cetrel/interval_1hour/PARALELA-CAB.csv.gz',\n",
       " '../datas/preprocessing/mr-ssa/airquality/cetrel/interval_1hour/PIRAJÁ.csv.gz',\n",
       " '../datas/preprocessing/mr-ssa/airquality/cetrel/interval_1hour/RIO VERMELHO.csv.gz']"
      ]
     },
     "execution_count": 50,
     "metadata": {},
     "output_type": "execute_result"
    }
   ],
   "source": [
    "f_airq = glob.glob(f\"{ARGS['path_airq']}/*.gz\")\n",
    "f_airq"
   ]
  },
  {
   "cell_type": "markdown",
   "metadata": {},
   "source": [
    "#### Columns"
   ]
  },
  {
   "cell_type": "code",
   "execution_count": 54,
   "metadata": {},
   "outputs": [
    {
     "data": {
      "application/vnd.jupyter.widget-view+json": {
       "model_id": "3ef06cf34aa14e07ac2c6dc9339d9343",
       "version_major": 2,
       "version_minor": 0
      },
      "text/plain": [
       "interactive(children=(Dropdown(description='file', options=('../datas/preprocessing/mr-ssa/airquality/cetrel/i…"
      ]
     },
     "metadata": {},
     "output_type": "display_data"
    },
    {
     "data": {
      "text/plain": [
       "<function __main__.show_columns(file: str, icols: str)>"
      ]
     },
     "execution_count": 54,
     "metadata": {},
     "output_type": "execute_result"
    }
   ],
   "source": [
    "aq_files = widgets.Dropdown(options=f_airq)\n",
    "interact(show_columns, file=aq_files, icols='aq_cols')"
   ]
  },
  {
   "cell_type": "markdown",
   "metadata": {},
   "source": [
    "#### Describe"
   ]
  },
  {
   "cell_type": "code",
   "execution_count": 56,
   "metadata": {},
   "outputs": [
    {
     "data": {
      "application/vnd.jupyter.widget-view+json": {
       "model_id": "68b5720a3c1f42f8b7b2d4d30cafdb65",
       "version_major": 2,
       "version_minor": 0
      },
      "text/plain": [
       "interactive(children=(Dropdown(description='file', options=('../datas/preprocessing/mr-ssa/airquality/cetrel/i…"
      ]
     },
     "metadata": {},
     "output_type": "display_data"
    },
    {
     "data": {
      "text/plain": [
       "<function __main__.show_describe(file: str, columns: [<class 'str'>])>"
      ]
     },
     "execution_count": 56,
     "metadata": {},
     "output_type": "execute_result"
    }
   ],
   "source": [
    "interact(show_describe, file=aq_files, columns=I_COLS['aq_cols'])"
   ]
  },
  {
   "cell_type": "markdown",
   "metadata": {},
   "source": [
    "### Weather"
   ]
  },
  {
   "cell_type": "code",
   "execution_count": 57,
   "metadata": {},
   "outputs": [
    {
     "data": {
      "text/plain": [
       "['../datas/preprocessing/mr-ssa/weather/cetrel/AV. ACM - DETRAN.csv.gz',\n",
       " '../datas/preprocessing/mr-ssa/weather/cetrel/AV. BARROS REIS.csv.gz',\n",
       " '../datas/preprocessing/mr-ssa/weather/cetrel/CAMPO GRANDE.csv.gz',\n",
       " '../datas/preprocessing/mr-ssa/weather/cetrel/DIQUE DO TORORO.csv.gz',\n",
       " '../datas/preprocessing/mr-ssa/weather/cetrel/ITAIGARA.csv.gz',\n",
       " '../datas/preprocessing/mr-ssa/weather/cetrel/PARALELA-CAB.csv.gz',\n",
       " '../datas/preprocessing/mr-ssa/weather/cetrel/PIRAJA.csv.gz',\n",
       " '../datas/preprocessing/mr-ssa/weather/cetrel/RIO VERMELHO.csv.gz']"
      ]
     },
     "execution_count": 57,
     "metadata": {},
     "output_type": "execute_result"
    }
   ],
   "source": [
    "f_wthr = glob.glob(f\"{ARGS['path_wthr']}/*.gz\")\n",
    "f_wthr"
   ]
  },
  {
   "cell_type": "markdown",
   "metadata": {},
   "source": [
    "#### Columns"
   ]
  },
  {
   "cell_type": "code",
   "execution_count": 58,
   "metadata": {},
   "outputs": [
    {
     "data": {
      "application/vnd.jupyter.widget-view+json": {
       "model_id": "d8b34003c7ed49afba99f638321d4901",
       "version_major": 2,
       "version_minor": 0
      },
      "text/plain": [
       "interactive(children=(Dropdown(description='file', options=('../datas/preprocessing/mr-ssa/weather/cetrel/AV. …"
      ]
     },
     "metadata": {},
     "output_type": "display_data"
    },
    {
     "data": {
      "text/plain": [
       "<function __main__.show_columns(file: str, icols: str)>"
      ]
     },
     "execution_count": 58,
     "metadata": {},
     "output_type": "execute_result"
    }
   ],
   "source": [
    "wt_files = widgets.Dropdown(options=f_wthr)\n",
    "interact(show_columns, file=wt_files, icols='wt_cols')"
   ]
  },
  {
   "cell_type": "markdown",
   "metadata": {},
   "source": [
    "#### Describe"
   ]
  },
  {
   "cell_type": "code",
   "execution_count": 59,
   "metadata": {},
   "outputs": [
    {
     "data": {
      "application/vnd.jupyter.widget-view+json": {
       "model_id": "b684479e770949cab48471e3f216315a",
       "version_major": 2,
       "version_minor": 0
      },
      "text/plain": [
       "interactive(children=(Dropdown(description='file', options=('../datas/preprocessing/mr-ssa/weather/cetrel/AV. …"
      ]
     },
     "metadata": {},
     "output_type": "display_data"
    },
    {
     "data": {
      "text/plain": [
       "<function __main__.show_describe(file: str, columns: [<class 'str'>])>"
      ]
     },
     "execution_count": 59,
     "metadata": {},
     "output_type": "execute_result"
    }
   ],
   "source": [
    "interact(show_describe, file=wt_files, columns=I_COLS['wt_cols'])"
   ]
  },
  {
   "cell_type": "markdown",
   "metadata": {},
   "source": [
    "### Datasus"
   ]
  },
  {
   "cell_type": "code",
   "execution_count": 61,
   "metadata": {},
   "outputs": [
    {
     "data": {
      "text/plain": [
       "['../datas/preprocessing/mr-ssa/datasus/RD.csv.gz']"
      ]
     },
     "execution_count": 61,
     "metadata": {},
     "output_type": "execute_result"
    }
   ],
   "source": [
    "f_dsus = glob.glob(f\"{ARGS['path_dsus']}/*.gz\")\n",
    "f_dsus"
   ]
  },
  {
   "cell_type": "markdown",
   "metadata": {},
   "source": [
    "#### Columns"
   ]
  },
  {
   "cell_type": "code",
   "execution_count": 64,
   "metadata": {},
   "outputs": [
    {
     "data": {
      "application/vnd.jupyter.widget-view+json": {
       "model_id": "05ed59d97f6b45daace5cd2f5abcc4cf",
       "version_major": 2,
       "version_minor": 0
      },
      "text/plain": [
       "interactive(children=(Dropdown(description='file', options=('../datas/preprocessing/mr-ssa/datasus/RD.csv.gz',…"
      ]
     },
     "metadata": {},
     "output_type": "display_data"
    },
    {
     "data": {
      "text/plain": [
       "<function __main__.show_columns(file: str, icols: str)>"
      ]
     },
     "execution_count": 64,
     "metadata": {},
     "output_type": "execute_result"
    }
   ],
   "source": [
    "ds_files = widgets.Dropdown(options=f_dsus)\n",
    "interact(show_columns, file=ds_files, icols='ds_cols')"
   ]
  },
  {
   "cell_type": "markdown",
   "metadata": {},
   "source": [
    "#### Describe"
   ]
  },
  {
   "cell_type": "code",
   "execution_count": 67,
   "metadata": {},
   "outputs": [
    {
     "data": {
      "application/vnd.jupyter.widget-view+json": {
       "model_id": "b35aad8203754d68bcc76284d4601a33",
       "version_major": 2,
       "version_minor": 0
      },
      "text/plain": [
       "interactive(children=(Dropdown(description='file', options=('../datas/preprocessing/mr-ssa/datasus/RD.csv.gz',…"
      ]
     },
     "metadata": {},
     "output_type": "display_data"
    },
    {
     "data": {
      "text/plain": [
       "<function __main__.show_describe(file: str, columns: [<class 'str'>])>"
      ]
     },
     "execution_count": 67,
     "metadata": {},
     "output_type": "execute_result"
    }
   ],
   "source": [
    "interact(show_describe, file=ds_files, columns=I_COLS['ds_cols'])"
   ]
  }
 ],
 "metadata": {
  "kernelspec": {
   "display_name": "Python 3",
   "language": "python",
   "name": "python3"
  },
  "language_info": {
   "codemirror_mode": {
    "name": "ipython",
    "version": 3
   },
   "file_extension": ".py",
   "mimetype": "text/x-python",
   "name": "python",
   "nbconvert_exporter": "python",
   "pygments_lexer": "ipython3",
   "version": "3.8.2"
  }
 },
 "nbformat": 4,
 "nbformat_minor": 4
}
